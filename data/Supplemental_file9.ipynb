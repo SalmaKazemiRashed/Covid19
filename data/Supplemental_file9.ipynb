{
  "cells": [
    {
      "cell_type": "markdown",
      "metadata": {
        "id": "iHzjb0Ijlr3r"
      },
      "source": [
        "# Construction of variant dictionary\n",
        "Author: Sonja Aits"
      ]
    },
    {
      "cell_type": "code",
      "execution_count": null,
      "metadata": {
        "id": "BvSju8CUT6Vp"
      },
      "outputs": [],
      "source": [
        "import pandas as pd\n",
        "import json\n",
        "import requests"
      ]
    },
    {
      "cell_type": "code",
      "execution_count": null,
      "metadata": {
        "colab": {
          "base_uri": "https://localhost:8080/",
          "height": 241
        },
        "id": "-Gq_P-TC4pMG",
        "outputId": "2435e0f3-19a2-4ee0-cf74-ebf35f8d796e"
      },
      "outputs": [
        {
          "name": "stdout",
          "output_type": "stream",
          "text": [
            "Download complete: lineages.csv\n",
            "CSV file loaded into DataFrame\n"
          ]
        },
        {
          "data": {
            "application/vnd.google.colaboratory.intrinsic+json": {
              "type": "dataframe",
              "variable_name": "df"
            },
            "text/html": [
              "\n",
              "  <div id=\"df-eedd33d1-3d1f-4a9d-abd7-acc6643a7f0e\" class=\"colab-df-container\">\n",
              "    <div>\n",
              "<style scoped>\n",
              "    .dataframe tbody tr th:only-of-type {\n",
              "        vertical-align: middle;\n",
              "    }\n",
              "\n",
              "    .dataframe tbody tr th {\n",
              "        vertical-align: top;\n",
              "    }\n",
              "\n",
              "    .dataframe thead th {\n",
              "        text-align: right;\n",
              "    }\n",
              "</style>\n",
              "<table border=\"1\" class=\"dataframe\">\n",
              "  <thead>\n",
              "    <tr style=\"text-align: right;\">\n",
              "      <th></th>\n",
              "      <th>taxon</th>\n",
              "      <th>lineage</th>\n",
              "    </tr>\n",
              "  </thead>\n",
              "  <tbody>\n",
              "    <tr>\n",
              "      <th>0</th>\n",
              "      <td>Belgium/UZA-UA-48355442/2023</td>\n",
              "      <td>XBZ</td>\n",
              "    </tr>\n",
              "    <tr>\n",
              "      <th>1</th>\n",
              "      <td>Norway/Ahus-4881/2023</td>\n",
              "      <td>XBZ</td>\n",
              "    </tr>\n",
              "    <tr>\n",
              "      <th>2</th>\n",
              "      <td>England/PHEP-YYG8X8X/2023</td>\n",
              "      <td>XBZ</td>\n",
              "    </tr>\n",
              "    <tr>\n",
              "      <th>3</th>\n",
              "      <td>Germany/RP-RKI-I-1082931/2022</td>\n",
              "      <td>XBZ</td>\n",
              "    </tr>\n",
              "    <tr>\n",
              "      <th>4</th>\n",
              "      <td>Germany/BY-RKI-I-1083943/2022</td>\n",
              "      <td>XBZ</td>\n",
              "    </tr>\n",
              "  </tbody>\n",
              "</table>\n",
              "</div>\n",
              "    <div class=\"colab-df-buttons\">\n",
              "\n",
              "  <div class=\"colab-df-container\">\n",
              "    <button class=\"colab-df-convert\" onclick=\"convertToInteractive('df-eedd33d1-3d1f-4a9d-abd7-acc6643a7f0e')\"\n",
              "            title=\"Convert this dataframe to an interactive table.\"\n",
              "            style=\"display:none;\">\n",
              "\n",
              "  <svg xmlns=\"http://www.w3.org/2000/svg\" height=\"24px\" viewBox=\"0 -960 960 960\">\n",
              "    <path d=\"M120-120v-720h720v720H120Zm60-500h600v-160H180v160Zm220 220h160v-160H400v160Zm0 220h160v-160H400v160ZM180-400h160v-160H180v160Zm440 0h160v-160H620v160ZM180-180h160v-160H180v160Zm440 0h160v-160H620v160Z\"/>\n",
              "  </svg>\n",
              "    </button>\n",
              "\n",
              "  <style>\n",
              "    .colab-df-container {\n",
              "      display:flex;\n",
              "      gap: 12px;\n",
              "    }\n",
              "\n",
              "    .colab-df-convert {\n",
              "      background-color: #E8F0FE;\n",
              "      border: none;\n",
              "      border-radius: 50%;\n",
              "      cursor: pointer;\n",
              "      display: none;\n",
              "      fill: #1967D2;\n",
              "      height: 32px;\n",
              "      padding: 0 0 0 0;\n",
              "      width: 32px;\n",
              "    }\n",
              "\n",
              "    .colab-df-convert:hover {\n",
              "      background-color: #E2EBFA;\n",
              "      box-shadow: 0px 1px 2px rgba(60, 64, 67, 0.3), 0px 1px 3px 1px rgba(60, 64, 67, 0.15);\n",
              "      fill: #174EA6;\n",
              "    }\n",
              "\n",
              "    .colab-df-buttons div {\n",
              "      margin-bottom: 4px;\n",
              "    }\n",
              "\n",
              "    [theme=dark] .colab-df-convert {\n",
              "      background-color: #3B4455;\n",
              "      fill: #D2E3FC;\n",
              "    }\n",
              "\n",
              "    [theme=dark] .colab-df-convert:hover {\n",
              "      background-color: #434B5C;\n",
              "      box-shadow: 0px 1px 3px 1px rgba(0, 0, 0, 0.15);\n",
              "      filter: drop-shadow(0px 1px 2px rgba(0, 0, 0, 0.3));\n",
              "      fill: #FFFFFF;\n",
              "    }\n",
              "  </style>\n",
              "\n",
              "    <script>\n",
              "      const buttonEl =\n",
              "        document.querySelector('#df-eedd33d1-3d1f-4a9d-abd7-acc6643a7f0e button.colab-df-convert');\n",
              "      buttonEl.style.display =\n",
              "        google.colab.kernel.accessAllowed ? 'block' : 'none';\n",
              "\n",
              "      async function convertToInteractive(key) {\n",
              "        const element = document.querySelector('#df-eedd33d1-3d1f-4a9d-abd7-acc6643a7f0e');\n",
              "        const dataTable =\n",
              "          await google.colab.kernel.invokeFunction('convertToInteractive',\n",
              "                                                    [key], {});\n",
              "        if (!dataTable) return;\n",
              "\n",
              "        const docLinkHtml = 'Like what you see? Visit the ' +\n",
              "          '<a target=\"_blank\" href=https://colab.research.google.com/notebooks/data_table.ipynb>data table notebook</a>'\n",
              "          + ' to learn more about interactive tables.';\n",
              "        element.innerHTML = '';\n",
              "        dataTable['output_type'] = 'display_data';\n",
              "        await google.colab.output.renderOutput(dataTable, element);\n",
              "        const docLink = document.createElement('div');\n",
              "        docLink.innerHTML = docLinkHtml;\n",
              "        element.appendChild(docLink);\n",
              "      }\n",
              "    </script>\n",
              "  </div>\n",
              "\n",
              "\n",
              "<div id=\"df-eb84d497-43b2-411b-9bb7-a53632c4a4be\">\n",
              "  <button class=\"colab-df-quickchart\" onclick=\"quickchart('df-eb84d497-43b2-411b-9bb7-a53632c4a4be')\"\n",
              "            title=\"Suggest charts\"\n",
              "            style=\"display:none;\">\n",
              "\n",
              "<svg xmlns=\"http://www.w3.org/2000/svg\" height=\"24px\"viewBox=\"0 0 24 24\"\n",
              "     width=\"24px\">\n",
              "    <g>\n",
              "        <path d=\"M19 3H5c-1.1 0-2 .9-2 2v14c0 1.1.9 2 2 2h14c1.1 0 2-.9 2-2V5c0-1.1-.9-2-2-2zM9 17H7v-7h2v7zm4 0h-2V7h2v10zm4 0h-2v-4h2v4z\"/>\n",
              "    </g>\n",
              "</svg>\n",
              "  </button>\n",
              "\n",
              "<style>\n",
              "  .colab-df-quickchart {\n",
              "      --bg-color: #E8F0FE;\n",
              "      --fill-color: #1967D2;\n",
              "      --hover-bg-color: #E2EBFA;\n",
              "      --hover-fill-color: #174EA6;\n",
              "      --disabled-fill-color: #AAA;\n",
              "      --disabled-bg-color: #DDD;\n",
              "  }\n",
              "\n",
              "  [theme=dark] .colab-df-quickchart {\n",
              "      --bg-color: #3B4455;\n",
              "      --fill-color: #D2E3FC;\n",
              "      --hover-bg-color: #434B5C;\n",
              "      --hover-fill-color: #FFFFFF;\n",
              "      --disabled-bg-color: #3B4455;\n",
              "      --disabled-fill-color: #666;\n",
              "  }\n",
              "\n",
              "  .colab-df-quickchart {\n",
              "    background-color: var(--bg-color);\n",
              "    border: none;\n",
              "    border-radius: 50%;\n",
              "    cursor: pointer;\n",
              "    display: none;\n",
              "    fill: var(--fill-color);\n",
              "    height: 32px;\n",
              "    padding: 0;\n",
              "    width: 32px;\n",
              "  }\n",
              "\n",
              "  .colab-df-quickchart:hover {\n",
              "    background-color: var(--hover-bg-color);\n",
              "    box-shadow: 0 1px 2px rgba(60, 64, 67, 0.3), 0 1px 3px 1px rgba(60, 64, 67, 0.15);\n",
              "    fill: var(--button-hover-fill-color);\n",
              "  }\n",
              "\n",
              "  .colab-df-quickchart-complete:disabled,\n",
              "  .colab-df-quickchart-complete:disabled:hover {\n",
              "    background-color: var(--disabled-bg-color);\n",
              "    fill: var(--disabled-fill-color);\n",
              "    box-shadow: none;\n",
              "  }\n",
              "\n",
              "  .colab-df-spinner {\n",
              "    border: 2px solid var(--fill-color);\n",
              "    border-color: transparent;\n",
              "    border-bottom-color: var(--fill-color);\n",
              "    animation:\n",
              "      spin 1s steps(1) infinite;\n",
              "  }\n",
              "\n",
              "  @keyframes spin {\n",
              "    0% {\n",
              "      border-color: transparent;\n",
              "      border-bottom-color: var(--fill-color);\n",
              "      border-left-color: var(--fill-color);\n",
              "    }\n",
              "    20% {\n",
              "      border-color: transparent;\n",
              "      border-left-color: var(--fill-color);\n",
              "      border-top-color: var(--fill-color);\n",
              "    }\n",
              "    30% {\n",
              "      border-color: transparent;\n",
              "      border-left-color: var(--fill-color);\n",
              "      border-top-color: var(--fill-color);\n",
              "      border-right-color: var(--fill-color);\n",
              "    }\n",
              "    40% {\n",
              "      border-color: transparent;\n",
              "      border-right-color: var(--fill-color);\n",
              "      border-top-color: var(--fill-color);\n",
              "    }\n",
              "    60% {\n",
              "      border-color: transparent;\n",
              "      border-right-color: var(--fill-color);\n",
              "    }\n",
              "    80% {\n",
              "      border-color: transparent;\n",
              "      border-right-color: var(--fill-color);\n",
              "      border-bottom-color: var(--fill-color);\n",
              "    }\n",
              "    90% {\n",
              "      border-color: transparent;\n",
              "      border-bottom-color: var(--fill-color);\n",
              "    }\n",
              "  }\n",
              "</style>\n",
              "\n",
              "  <script>\n",
              "    async function quickchart(key) {\n",
              "      const quickchartButtonEl =\n",
              "        document.querySelector('#' + key + ' button');\n",
              "      quickchartButtonEl.disabled = true;  // To prevent multiple clicks.\n",
              "      quickchartButtonEl.classList.add('colab-df-spinner');\n",
              "      try {\n",
              "        const charts = await google.colab.kernel.invokeFunction(\n",
              "            'suggestCharts', [key], {});\n",
              "      } catch (error) {\n",
              "        console.error('Error during call to suggestCharts:', error);\n",
              "      }\n",
              "      quickchartButtonEl.classList.remove('colab-df-spinner');\n",
              "      quickchartButtonEl.classList.add('colab-df-quickchart-complete');\n",
              "    }\n",
              "    (() => {\n",
              "      let quickchartButtonEl =\n",
              "        document.querySelector('#df-eb84d497-43b2-411b-9bb7-a53632c4a4be button');\n",
              "      quickchartButtonEl.style.display =\n",
              "        google.colab.kernel.accessAllowed ? 'block' : 'none';\n",
              "    })();\n",
              "  </script>\n",
              "</div>\n",
              "\n",
              "    </div>\n",
              "  </div>\n"
            ],
            "text/plain": [
              "                           taxon lineage\n",
              "0   Belgium/UZA-UA-48355442/2023     XBZ\n",
              "1          Norway/Ahus-4881/2023     XBZ\n",
              "2      England/PHEP-YYG8X8X/2023     XBZ\n",
              "3  Germany/RP-RKI-I-1082931/2022     XBZ\n",
              "4  Germany/BY-RKI-I-1083943/2022     XBZ"
            ]
          },
          "execution_count": 1,
          "metadata": {},
          "output_type": "execute_result"
        }
      ],
      "source": [
        "# Extract Pango terms from lineages file\n",
        "\n",
        "# URL of the CSV file\n",
        "url = \"https://raw.githubusercontent.com/cov-lineages/pango-designation/refs/heads/master/lineages.csv\"\n",
        "\n",
        "# Download the file\n",
        "response = requests.get(url)\n",
        "if response.status_code == 200:\n",
        "    with open(\"lineages.csv\", \"wb\") as file:\n",
        "        file.write(response.content)\n",
        "    print(\"Download complete: lineages.csv\")\n",
        "else:\n",
        "    print(\"Failed to download file\")\n",
        "\n",
        "# Load CSV into a Pandas DataFrame\n",
        "df = pd.read_csv(\"lineages.csv\")\n",
        "print(\"CSV file loaded into DataFrame\")\n",
        "\n",
        "# Display the first few rows\n",
        "df.head()"
      ]
    },
    {
      "cell_type": "code",
      "execution_count": null,
      "metadata": {
        "colab": {
          "base_uri": "https://localhost:8080/"
        },
        "id": "TBp2qpHO5Shx",
        "outputId": "7c29fcf4-79c0-419f-8d2c-a9a6afc10ea9"
      },
      "outputs": [
        {
          "name": "stdout",
          "output_type": "stream",
          "text": [
            "Unique lineages extracted\n",
            "4651\n",
            "Unique taxa extracted\n",
            "2607130\n"
          ]
        }
      ],
      "source": [
        "# Extract unique values from the 'lineage' column\n",
        "unique_lineages = df['lineage'].unique()\n",
        "print(\"Unique lineages extracted\")\n",
        "print(len(unique_lineages))\n",
        "\n",
        "# Extract unique values from the 'taxon' column\n",
        "unique_taxa = df['taxon'].unique()\n",
        "print(\"Unique taxa extracted\")\n",
        "print(len(unique_taxa))"
      ]
    },
    {
      "cell_type": "code",
      "execution_count": null,
      "metadata": {
        "colab": {
          "base_uri": "https://localhost:8080/"
        },
        "id": "kcnYDYGaAMth",
        "outputId": "b348a5b6-1563-43c9-b2d8-5324a6708849"
      },
      "outputs": [
        {
          "name": "stdout",
          "output_type": "stream",
          "text": [
            "Terms extracted\n",
            "927\n"
          ]
        }
      ],
      "source": [
        "# Import Pango terms from alias file\n",
        "\n",
        "# URL of the JSON file\n",
        "url = \"https://raw.githubusercontent.com/cov-lineages/pango-designation/master/pango_designation/alias_key.json\"\n",
        "\n",
        "# Fetch the JSON content\n",
        "response = requests.get(url)\n",
        "data = response.json()\n",
        "\n",
        "# Initialize an empty set to store the terms\n",
        "terms = set()\n",
        "\n",
        "# Add all keys and values (handling multiple values)\n",
        "for key, value in data.items():\n",
        "    terms.add(key)\n",
        "    if isinstance(value, list):\n",
        "        terms.update(value)  # Add all elements in the list if value is a list\n",
        "    else:\n",
        "        terms.add(value)  # Add the single value if it's not a list\n",
        "\n",
        "# Print the collected terms\n",
        "print(\"Terms extracted\")\n",
        "print(len(terms))"
      ]
    },
    {
      "cell_type": "code",
      "execution_count": null,
      "metadata": {
        "colab": {
          "base_uri": "https://localhost:8080/"
        },
        "id": "bWY4wp2LAYSa",
        "outputId": "afb15859-9b04-4c6d-a520-ff41f0df0b64"
      },
      "outputs": [
        {
          "name": "stdout",
          "output_type": "stream",
          "text": [
            "Length of unique terms: 5190\n",
            "Total lexical variants: 20760\n",
            "All terms combined\n",
            "2633468\n",
            "  terms\n",
            "0   XBZ\n",
            "1     A\n",
            "2   A.1\n",
            "3  A.11\n",
            "4  A.12\n"
          ]
        }
      ],
      "source": [
        "# Combine lineage terms and terms from json file\n",
        "unique_terms = list(set(unique_lineages).union(terms))\n",
        "print(f\"Length of unique terms: {len(unique_terms)}\")\n",
        "\n",
        "# Generate lexical variants and track how many are added\n",
        "lexical_variants = []\n",
        "for lineage in unique_terms:\n",
        "    variants = [\n",
        "        f\"variant {lineage}\",\n",
        "        f\"lineage {lineage}\",\n",
        "        f\"{lineage} variant\",\n",
        "        f\"{lineage} lineage\"\n",
        "    ]\n",
        "    lexical_variants.extend(variants)\n",
        "\n",
        "# Verify the number of variants generated\n",
        "print(f\"Total lexical variants: {len(lexical_variants)}\")\n"
      ]
    },
    {
      "cell_type": "code",
      "execution_count": null,
      "metadata": {
        "colab": {
          "base_uri": "https://localhost:8080/"
        },
        "id": "v0V2774PLevK",
        "outputId": "b7eed290-d187-4d5d-8fbb-6aefa9b76341"
      },
      "outputs": [
        {
          "name": "stdout",
          "output_type": "stream",
          "text": [
            "Unique clades:\n",
            "['19A' '19B' '20A' '20B' '20C' '20D' '20E' '20F' '20G' '20H' '20I' '20J'\n",
            " '21A' '21B' '21C' '21D' '21E' '21F' '21G' '21H' '21I' '21J' '21K' '21L'\n",
            " '21M' '22A' '22B' '22C' '22D' '22E' '22F' '23A' '23B' '23C' '23D' '23E'\n",
            " '23F' '23G' '23H' '23I' '24A' '24B' '24C' '24D' '24E' '24F' '24G' '24H'\n",
            " '24I' '25A']\n",
            "Total unique clades: 50\n",
            "['clade 19A', '19A clade', 'clade 19B', '19B clade', 'clade 20A', '20A clade', 'clade 20B', '20B clade', 'clade 20C', '20C clade', 'clade 20D', '20D clade', 'clade 20E', '20E clade', 'clade 20F', '20F clade', 'clade 20G', '20G clade', 'clade 20H', '20H clade', 'clade 20I', '20I clade', 'clade 20J', '20J clade', 'clade 21A', '21A clade', 'clade 21B', '21B clade', 'clade 21C', '21C clade', 'clade 21D', '21D clade', 'clade 21E', '21E clade', 'clade 21F', '21F clade', 'clade 21G', '21G clade', 'clade 21H', '21H clade', 'clade 21I', '21I clade', 'clade 21J', '21J clade', 'clade 21K', '21K clade', 'clade 21L', '21L clade', 'clade 21M', '21M clade', 'clade 22A', '22A clade', 'clade 22B', '22B clade', 'clade 22C', '22C clade', 'clade 22D', '22D clade', 'clade 22E', '22E clade', 'clade 22F', '22F clade', 'clade 23A', '23A clade', 'clade 23B', '23B clade', 'clade 23C', '23C clade', 'clade 23D', '23D clade', 'clade 23E', '23E clade', 'clade 23F', '23F clade', 'clade 23G', '23G clade', 'clade 23H', '23H clade', 'clade 23I', '23I clade', 'clade 24A', '24A clade', 'clade 24B', '24B clade', 'clade 24C', '24C clade', 'clade 24D', '24D clade', 'clade 24E', '24E clade', 'clade 24F', '24F clade', 'clade 24G', '24G clade', 'clade 24H', '24H clade', 'clade 24I', '24I clade', 'clade 25A', '25A clade']\n"
          ]
        }
      ],
      "source": [
        "# Extract nextstrain clade terms\n",
        "\n",
        "# URL of the TSV file\n",
        "url = \"https://raw.githubusercontent.com/nextstrain/ncov/master/defaults/clades.tsv\"\n",
        "\n",
        "# Download and load the TSV file into a pandas DataFrame\n",
        "df = pd.read_csv(url, sep='\\t')\n",
        "\n",
        "# Extract unique clade names from the 'clade' column\n",
        "unique_clades = df['clade'].unique()\n",
        "\n",
        "# Print the unique clades\n",
        "print(\"Unique clades:\")\n",
        "print(unique_clades)\n",
        "print(f\"Total unique clades: {len(unique_clades)}\")\n",
        "\n",
        "# Generate lexical clade variants and track how many are added\n",
        "clade_variants = []\n",
        "for term in unique_clades:\n",
        "    variants = [\n",
        "        f\"clade {term}\",\n",
        "        f\"{term} clade\"]\n",
        "    clade_variants.extend(variants)\n",
        "print(clade_variants)"
      ]
    },
    {
      "cell_type": "code",
      "execution_count": null,
      "metadata": {
        "colab": {
          "base_uri": "https://localhost:8080/"
        },
        "id": "LNuArF0iMFyy",
        "outputId": "84c5433a-380e-4171-971b-723e257158b2"
      },
      "outputs": [
        {
          "name": "stdout",
          "output_type": "stream",
          "text": [
            "All terms combined\n",
            "2633618\n",
            "              term\n",
            "2633613  24H clade\n",
            "2633614  clade 24I\n",
            "2633615  24I clade\n",
            "2633616  clade 25A\n",
            "2633617  25A clade\n"
          ]
        }
      ],
      "source": [
        "# Combine Pango and Nextstrain terms and their lexical variants to produce the update list\n",
        "all_terms = list(unique_lineages) + lexical_variants + list(unique_taxa) + list(terms) + list(unique_clades) + clade_variants\n",
        "print(\"All terms combined\")\n",
        "print(len(all_terms))\n",
        "\n",
        "# Save to CSV\n",
        "new_df = pd.DataFrame({'term': all_terms})\n",
        "new_df.to_csv(\"variants_addition20250319.csv\", index=False)\n",
        "\n",
        "# Display the first few terms\n",
        "print(new_df.tail())"
      ]
    },
    {
      "cell_type": "code",
      "execution_count": null,
      "metadata": {
        "colab": {
          "base_uri": "https://localhost:8080/"
        },
        "id": "UQQyxZc5MvuJ",
        "outputId": "38ff01ad-ea86-4aa4-9b4e-4d852730a77c"
      },
      "outputs": [
        {
          "name": "stdout",
          "output_type": "stream",
          "text": [
            "Download complete: Supplemental_file3.txt\n",
            "Original length of original variant list\n",
            "5330\n",
            "            term\n",
            "5325  GH/501Y.V2\n",
            "5326  GR/501Y.V3\n",
            "5327   G/478K.V1\n",
            "5328  GR/452Q.V1\n",
            "5329     GH/490R\n",
            "Length of updated variant list\n",
            "2633758\n",
            "               term\n",
            "2638943  GH/501Y.V2\n",
            "2638944  GR/501Y.V3\n",
            "2638945   G/478K.V1\n",
            "2638946  GR/452Q.V1\n",
            "2638947     GH/490R\n"
          ]
        }
      ],
      "source": [
        "# Extract original variant dictionary\n",
        "\n",
        "# URL of the published variant file (raw version of the text file)\n",
        "url = \"https://raw.githubusercontent.com/Aitslab/corona/master/manuscript_v2/Supplemental_file3.txt\"\n",
        "\n",
        "# Download the file\n",
        "response = requests.get(url)\n",
        "if response.status_code == 200:\n",
        "    with open(\"Supplemental_file3.txt\", \"wb\") as file:\n",
        "        file.write(response.content)\n",
        "    print(\"Download complete: Supplemental_file3.txt\")\n",
        "else:\n",
        "    print(\"Failed to download file\")\n",
        "\n",
        "# Load the text file into a pandas DataFrame\n",
        "original_df = pd.read_csv(\"Supplemental_file3.txt\", header=None, names=[\"term\"])\n",
        "print(\"Original length of original variant list\")\n",
        "print(len(original_df))\n",
        "print(original_df.tail())\n",
        "\n",
        "# Combine original dataframe with update\n",
        "merged_df = pd.concat([new_df, original_df], ignore_index=True)\n",
        "\n",
        "# Remove duplicates\n",
        "merged_df_unique = merged_df.drop_duplicates()\n",
        "print(\"Length of updated variant list\")\n",
        "print(len(merged_df_unique))\n",
        "\n",
        "# Save to CSV\n",
        "merged_df_unique.to_csv(\"variants_v2.txt\", index=False, header=False)\n",
        "\n",
        "# Display the first few terms\n",
        "print(merged_df_unique.tail())"
      ]
    },
    {
      "cell_type": "code",
      "execution_count": null,
      "metadata": {
        "colab": {
          "base_uri": "https://localhost:8080/"
        },
        "id": "QJG_NA8C7xmT",
        "outputId": "c9bfd647-e7f1-4da1-d0e2-9fc6ce12fad8"
      },
      "outputs": [
        {
          "name": "stdout",
          "output_type": "stream",
          "text": [
            "JN.1: Present\n",
            "JN.1.18: Present\n",
            "KP.2: Present\n",
            "KP.3: Present\n",
            "KP.3.1.1: Present\n",
            "LB.1: Present\n",
            "XEC: Present\n",
            "LP.8.1: Present\n",
            "BA.2*: Present\n"
          ]
        }
      ],
      "source": [
        "# Define the list of terms to check\n",
        "terms_to_check = [\"JN.1\", \"JN.1.18\", \"KP.2\", \"KP.3\", \"KP.3.1.1\", \"LB.1\", \"XEC\", \"LP.8.1\", \"BA.2*\"]\n",
        "\n",
        "# Check which terms are in all_terms\n",
        "present_terms = {term: term in all_terms for term in terms_to_check}\n",
        "\n",
        "# Print results\n",
        "for term, present in present_terms.items():\n",
        "    print(f\"{term}: {'Present' if present else 'Not Present'}\")"
      ]
    }
  ],
  "metadata": {
    "colab": {
      "provenance": []
    },
    "kernelspec": {
      "display_name": "Python 3",
      "name": "python3"
    },
    "language_info": {
      "name": "python"
    }
  },
  "nbformat": 4,
  "nbformat_minor": 0
}
